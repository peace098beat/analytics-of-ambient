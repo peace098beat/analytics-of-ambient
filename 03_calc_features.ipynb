{
 "cells": [
  {
   "cell_type": "markdown",
   "id": "560c4bd7",
   "metadata": {},
   "source": [
    "# Analytics of Ambient\n",
    "\n",
    "- 作業環境\n",
    "    - https://miro.com/app/board/o9J_l9jSAOo=/\n",
    "    - https://drive.google.com/drive/folders/1wnKK2SaN9DgPUa2PFSJbwizaDHOHitGc?usp=sharing\n",
    " "
   ]
  },
  {
   "cell_type": "markdown",
   "id": "c1f1a8c0",
   "metadata": {},
   "source": [
    "## やりたいこと\n",
    "\n",
    " - ある音のラウドネスとシャープネスなどの指標でマッピングする\n",
    " \n",
    "## 課題\n",
    "\n",
    " - 音を分割するひつようがある. \n",
    "     - N 秒\n",
    " - 心理音響指標をpythonで出せるか\n",
    "     - [MoSQITo/tuto_signal_basic_operations.ipynb at master · Eomys/MoSQITo · GitHub](https://github.com/Eomys/MoSQITo/blob/master/tutorials/tuto_signal_basic_operations.ipynb)\n",
    "\n",
    "## 進め方\n",
    "\n",
    " - 1. 音を聴く.\n",
    " - 2. 心理音響指標算出\n",
    " \n",
    " \n",
    " ## 結果\n",
    "  - 音源が長くて心理音響指標が計算できない\n",
    " \n",
    " ## 変更\n",
    "  - 音源を5秒刻みに変更\n",
    "  - 中間3秒だけで心理音響指標を算出\n",
    "  - jsonで保存"
   ]
  },
  {
   "cell_type": "markdown",
   "id": "e3458425",
   "metadata": {},
   "source": [
    "# 参考\n",
    "\n",
    " - 周波数重心\n",
    "     https://www.geidai.ac.jp/~marui/r_program/spectrum.html"
   ]
  },
  {
   "cell_type": "code",
   "execution_count": 1,
   "id": "9aa8bbae",
   "metadata": {},
   "outputs": [],
   "source": [
    "from pathlib import Path\n",
    "import numpy as np\n",
    "import pandas as pd\n",
    "from matplotlib import pyplot as plt\n",
    "import japanize_matplotlib\n",
    "import seaborn\n",
    "\n",
    "import librosa\n",
    "import librosa.display\n"
   ]
  },
  {
   "cell_type": "code",
   "execution_count": 2,
   "id": "339163b3",
   "metadata": {},
   "outputs": [],
   "source": [
    "\n",
    "def _mkdir(p, exist_ok=True, parents=True):\n",
    "\t# Path(OUT_DIR).mkdir(exist_ok=True, parents=True)\n",
    "    p.mkdir(exist_ok=True, parents=True)\n",
    "    return p\n",
    "\n",
    "Path.fmkdir = _mkdir"
   ]
  },
  {
   "cell_type": "markdown",
   "id": "7cc35416",
   "metadata": {},
   "source": [
    "# Utils"
   ]
  },
  {
   "cell_type": "code",
   "execution_count": 3,
   "id": "fee0a467",
   "metadata": {},
   "outputs": [
    {
     "name": "stdout",
     "output_type": "stream",
     "text": [
      "fatal: destination path 'ThinkDSP' already exists and is not an empty directory.\r\n"
     ]
    }
   ],
   "source": [
    "!git clone https://github.com/AllenDowney/ThinkDSP.git \n"
   ]
  },
  {
   "cell_type": "code",
   "execution_count": 4,
   "id": "8f1040fa",
   "metadata": {},
   "outputs": [],
   "source": [
    "import sys\n",
    "sys.path.insert(0, 'ThinkDSP/code/') \n",
    "import thinkdsp\n",
    "import IPython\n",
    "\n",
    "def play_sound(snd_path):\n",
    "    wave = thinkdsp.read_wave(f\"{snd_path}.wav\") # Paste this into the previous examples\n",
    "    return wave\n",
    "\n",
    "# IPython.display.Audio('sound.wav')\n"
   ]
  },
  {
   "cell_type": "markdown",
   "id": "a017ff56",
   "metadata": {},
   "source": [
    "## 一つ取り出してFeature計算\n"
   ]
  },
  {
   "cell_type": "code",
   "execution_count": 5,
   "id": "639bb916",
   "metadata": {},
   "outputs": [],
   "source": [
    "INTERIM_DIR = \"data/interim\"\n"
   ]
  },
  {
   "cell_type": "code",
   "execution_count": 6,
   "id": "3eb333b6",
   "metadata": {},
   "outputs": [
    {
     "data": {
      "text/plain": [
       "['data/interim/1.バスタ新宿 4f 高速バス乗り場 C7乗り場前.mono.0.wav',\n",
       " 'data/interim/1.バスタ新宿 4f 高速バス乗り場 C7乗り場前.mono.1.wav',\n",
       " 'data/interim/1.バスタ新宿 4f 高速バス乗り場 C7乗り場前.mono.2.wav',\n",
       " 'data/interim/1.バスタ新宿 4f 高速バス乗り場 C7乗り場前.mono.3.wav',\n",
       " 'data/interim/1.バスタ新宿 4f 高速バス乗り場 C7乗り場前.mono.4.wav',\n",
       " 'data/interim/1.バスタ新宿 4f 高速バス乗り場 C7乗り場前.mono.5.wav',\n",
       " 'data/interim/10.古市小学校前.mono.0.wav',\n",
       " 'data/interim/10.古市小学校前.mono.1.wav',\n",
       " 'data/interim/10.古市小学校前.mono.2.wav',\n",
       " 'data/interim/10.古市小学校前.mono.3.wav',\n",
       " 'data/interim/10.古市小学校前.mono.4.wav',\n",
       " 'data/interim/10.古市小学校前.mono.5.wav',\n",
       " 'data/interim/11.東大通パーク.mono.0.wav',\n",
       " 'data/interim/11.東大通パーク.mono.1.wav',\n",
       " 'data/interim/11.東大通パーク.mono.2.wav',\n",
       " 'data/interim/11.東大通パーク.mono.3.wav',\n",
       " 'data/interim/11.東大通パーク.mono.4.wav',\n",
       " 'data/interim/11.東大通パーク.mono.5.wav',\n",
       " 'data/interim/12.東大通パーク2.mono.0.wav',\n",
       " 'data/interim/12.東大通パーク2.mono.1.wav',\n",
       " 'data/interim/12.東大通パーク2.mono.2.wav',\n",
       " 'data/interim/12.東大通パーク2.mono.3.wav',\n",
       " 'data/interim/12.東大通パーク2.mono.4.wav',\n",
       " 'data/interim/12.東大通パーク2.mono.5.wav',\n",
       " 'data/interim/13.浜松朝.mono.0.wav',\n",
       " 'data/interim/13.浜松朝.mono.1.wav',\n",
       " 'data/interim/13.浜松朝.mono.2.wav',\n",
       " 'data/interim/13.浜松朝.mono.3.wav',\n",
       " 'data/interim/13.浜松朝.mono.4.wav',\n",
       " 'data/interim/13.浜松朝.mono.5.wav',\n",
       " 'data/interim/14.阿佐ヶ谷シェアハウス前雨.mono.0.wav',\n",
       " 'data/interim/14.阿佐ヶ谷シェアハウス前雨.mono.1.wav',\n",
       " 'data/interim/14.阿佐ヶ谷シェアハウス前雨.mono.2.wav',\n",
       " 'data/interim/14.阿佐ヶ谷シェアハウス前雨.mono.3.wav',\n",
       " 'data/interim/14.阿佐ヶ谷シェアハウス前雨.mono.4.wav',\n",
       " 'data/interim/14.阿佐ヶ谷シェアハウス前雨.mono.5.wav',\n",
       " 'data/interim/15.新宿駅湘南新宿ライン1番プラットホーム.mono.0.wav',\n",
       " 'data/interim/15.新宿駅湘南新宿ライン1番プラットホーム.mono.1.wav',\n",
       " 'data/interim/15.新宿駅湘南新宿ライン1番プラットホーム.mono.2.wav',\n",
       " 'data/interim/15.新宿駅湘南新宿ライン1番プラットホーム.mono.3.wav',\n",
       " 'data/interim/15.新宿駅湘南新宿ライン1番プラットホーム.mono.4.wav',\n",
       " 'data/interim/15.新宿駅湘南新宿ライン1番プラットホーム.mono.5.wav',\n",
       " 'data/interim/16.新川崎駅高架.mono.0.wav',\n",
       " 'data/interim/16.新川崎駅高架.mono.1.wav',\n",
       " 'data/interim/16.新川崎駅高架.mono.2.wav',\n",
       " 'data/interim/16.新川崎駅高架.mono.3.wav',\n",
       " 'data/interim/16.新川崎駅高架.mono.4.wav',\n",
       " 'data/interim/16.新川崎駅高架.mono.5.wav',\n",
       " 'data/interim/17.渋谷スクランブル交差点.mono.0.wav',\n",
       " 'data/interim/17.渋谷スクランブル交差点.mono.1.wav',\n",
       " 'data/interim/17.渋谷スクランブル交差点.mono.2.wav',\n",
       " 'data/interim/17.渋谷スクランブル交差点.mono.3.wav',\n",
       " 'data/interim/17.渋谷スクランブル交差点.mono.4.wav',\n",
       " 'data/interim/17.渋谷スクランブル交差点.mono.5.wav',\n",
       " 'data/interim/18.渋谷センター街.mono.0.wav',\n",
       " 'data/interim/18.渋谷センター街.mono.1.wav',\n",
       " 'data/interim/18.渋谷センター街.mono.2.wav',\n",
       " 'data/interim/18.渋谷センター街.mono.3.wav',\n",
       " 'data/interim/18.渋谷センター街.mono.4.wav',\n",
       " 'data/interim/18.渋谷センター街.mono.5.wav',\n",
       " 'data/interim/2.新宿駅JR中央線東京行きプラットホーム.mono.0.wav',\n",
       " 'data/interim/2.新宿駅JR中央線東京行きプラットホーム.mono.1.wav',\n",
       " 'data/interim/2.新宿駅JR中央線東京行きプラットホーム.mono.2.wav',\n",
       " 'data/interim/2.新宿駅JR中央線東京行きプラットホーム.mono.3.wav',\n",
       " 'data/interim/2.新宿駅JR中央線東京行きプラットホーム.mono.4.wav',\n",
       " 'data/interim/2.新宿駅JR中央線東京行きプラットホーム.mono.5.wav',\n",
       " 'data/interim/3.夜行バス清水.mono.0.wav',\n",
       " 'data/interim/3.夜行バス清水.mono.1.wav',\n",
       " 'data/interim/3.夜行バス清水.mono.2.wav',\n",
       " 'data/interim/3.夜行バス清水.mono.3.wav',\n",
       " 'data/interim/3.夜行バス清水.mono.4.wav',\n",
       " 'data/interim/3.夜行バス清水.mono.5.wav',\n",
       " 'data/interim/4.大阪梅田.mono.0.wav',\n",
       " 'data/interim/4.大阪梅田.mono.1.wav',\n",
       " 'data/interim/4.大阪梅田.mono.2.wav',\n",
       " 'data/interim/4.大阪梅田.mono.3.wav',\n",
       " 'data/interim/4.大阪梅田.mono.4.wav',\n",
       " 'data/interim/4.大阪梅田.mono.5.wav',\n",
       " 'data/interim/5.うめだ駅構内.mono.0.wav',\n",
       " 'data/interim/5.うめだ駅構内.mono.1.wav',\n",
       " 'data/interim/5.うめだ駅構内.mono.2.wav',\n",
       " 'data/interim/5.うめだ駅構内.mono.3.wav',\n",
       " 'data/interim/5.うめだ駅構内.mono.4.wav',\n",
       " 'data/interim/5.うめだ駅構内.mono.5.wav',\n",
       " 'data/interim/6.地下鉄梅田御堂筋線.mono.0.wav',\n",
       " 'data/interim/6.地下鉄梅田御堂筋線.mono.1.wav',\n",
       " 'data/interim/6.地下鉄梅田御堂筋線.mono.2.wav',\n",
       " 'data/interim/6.地下鉄梅田御堂筋線.mono.3.wav',\n",
       " 'data/interim/6.地下鉄梅田御堂筋線.mono.4.wav',\n",
       " 'data/interim/6.地下鉄梅田御堂筋線.mono.5.wav',\n",
       " 'data/interim/7.近鉄あべの橋車内.mono.0.wav',\n",
       " 'data/interim/7.近鉄あべの橋車内.mono.1.wav',\n",
       " 'data/interim/7.近鉄あべの橋車内.mono.2.wav',\n",
       " 'data/interim/7.近鉄あべの橋車内.mono.3.wav',\n",
       " 'data/interim/7.近鉄あべの橋車内.mono.4.wav',\n",
       " 'data/interim/7.近鉄あべの橋車内.mono.5.wav',\n",
       " 'data/interim/8.近鉄河内長野-藤井寺車内.mono.0.wav',\n",
       " 'data/interim/8.近鉄河内長野-藤井寺車内.mono.1.wav',\n",
       " 'data/interim/8.近鉄河内長野-藤井寺車内.mono.2.wav',\n",
       " 'data/interim/8.近鉄河内長野-藤井寺車内.mono.3.wav',\n",
       " 'data/interim/8.近鉄河内長野-藤井寺車内.mono.4.wav',\n",
       " 'data/interim/8.近鉄河内長野-藤井寺車内.mono.5.wav',\n",
       " 'data/interim/9.白鳥神社.mono.0.wav',\n",
       " 'data/interim/9.白鳥神社.mono.1.wav',\n",
       " 'data/interim/9.白鳥神社.mono.2.wav',\n",
       " 'data/interim/9.白鳥神社.mono.3.wav',\n",
       " 'data/interim/9.白鳥神社.mono.4.wav',\n",
       " 'data/interim/9.白鳥神社.mono.5.wav']"
      ]
     },
     "execution_count": 6,
     "metadata": {},
     "output_type": "execute_result"
    }
   ],
   "source": [
    "wave_paths = list(Path(INTERIM_DIR).glob(\"*.wav\"))\n",
    "wave_paths = [str(p) for p in wave_paths]\n",
    "\n",
    "wave_paths.sort()\n",
    "wave_paths"
   ]
  },
  {
   "cell_type": "code",
   "execution_count": 7,
   "id": "d272e147",
   "metadata": {},
   "outputs": [
    {
     "name": "stdout",
     "output_type": "stream",
     "text": [
      "CPU times: user 3 µs, sys: 0 ns, total: 3 µs\n",
      "Wall time: 4.77 µs\n"
     ]
    }
   ],
   "source": [
    "%%time\n",
    "\n",
    "wav_path =wave_paths[0]\n"
   ]
  },
  {
   "cell_type": "code",
   "execution_count": null,
   "id": "1579221a",
   "metadata": {},
   "outputs": [],
   "source": [
    "from mosqito.functions.shared.load import load\n",
    "from mosqito.functions.loudness_zwicker.comp_loudness import comp_loudness\n"
   ]
  },
  {
   "cell_type": "code",
   "execution_count": 30,
   "id": "6712a6ce",
   "metadata": {},
   "outputs": [
    {
     "name": "stdout",
     "output_type": "stream",
     "text": [
      "Signal resampled to 48 kHz to allow calculation.\n"
     ]
    },
    {
     "data": {
      "image/png": "[encoded data removed]",
      "text/plain": [
       "<Figure size 432x288 with 1 Axes>"
      ]
     },
     "metadata": {
      "needs_background": "light"
     },
     "output_type": "display_data"
    }
   ],
   "source": [
    "signal, fs = load( True, wav_path)\n",
    "loudness = comp_loudness(True, signal, fs, field_type = 'free')\n",
    "\n",
    "N = loudness['specific values']\n",
    "bark_scale = np.linspace(0, 24, num=len(N))\n",
    "plt.plot(bark_scale, N)\n",
    "plt.xlabel(\"Frequency [bark]\")\n",
    "plt.ylabel(\"Specific Loudness, [sone]\")\n",
    "plt.show()"
   ]
  },
  {
   "cell_type": "code",
   "execution_count": 24,
   "id": "6b61ebb9",
   "metadata": {},
   "outputs": [
    {
     "data": {
      "text/plain": [
       "2.675907401163989"
      ]
     },
     "execution_count": 24,
     "metadata": {},
     "output_type": "execute_result"
    }
   ],
   "source": [
    "spec = loudness['specific values']\n",
    "f = np.linspace(0, 24, num=len(N))\n",
    "\n",
    "loudness_spec_center_log = np.sum( np.log2( f+0.1) * spec) / np.sum(spec)\n",
    "loudness_spec_center = np.sum( f * spec) / np.sum(spec)\n",
    "\n",
    "np.sum( f * spec**2) / np.sum(spec**2)\n",
    "np.sum( np.log2( f+0.1) * spec**2) / np.sum(spec**2)"
   ]
  },
  {
   "cell_type": "markdown",
   "id": "855f1a4d",
   "metadata": {},
   "source": [
    " - 適当に重心出すかな。"
   ]
  },
  {
   "cell_type": "code",
   "execution_count": 31,
   "id": "fe9b8495",
   "metadata": {},
   "outputs": [
    {
     "data": {
      "image/png": "[encoded data removed]",
      "text/plain": [
       "<Figure size 432x288 with 1 Axes>"
      ]
     },
     "metadata": {
      "needs_background": "light"
     },
     "output_type": "display_data"
    }
   ],
   "source": [
    "# import numpy as np\n",
    "# import matplotlib.pyplot as plt\n",
    "# from mosqito.functions.shared.load import load\n",
    "# from mosqito.functions.loudness_zwicker.comp_loudness import comp_loudness\n",
    "\n",
    "# signal, fs = load(False, wav_path, calib = 2 * 2**0.5 )\n",
    "loudness = comp_loudness(False, signal, fs, field_type = 'free')\n",
    "\n",
    "N = loudness['values']\n",
    "time = np.linspace(0,0.002*(N.size - 1),N.size)\n",
    "plt.plot(time, N)\n",
    "plt.xlabel(\"Time [s]\")\n",
    "plt.ylabel(\"Loudness, [sone]\")\n",
    "plt.show()"
   ]
  },
  {
   "cell_type": "markdown",
   "id": "87f4a9a0",
   "metadata": {},
   "source": [
    "- 適当に平均だすかな"
   ]
  },
  {
   "cell_type": "code",
   "execution_count": 40,
   "id": "b8cc843e",
   "metadata": {},
   "outputs": [],
   "source": [
    "import scipy\n"
   ]
  },
  {
   "cell_type": "code",
   "execution_count": 42,
   "id": "60152997",
   "metadata": {},
   "outputs": [
    {
     "name": "stdout",
     "output_type": "stream",
     "text": [
      "Signal resampled to 48 kHz to allow calculation.\n"
     ]
    }
   ],
   "source": [
    "signal, fs = load( None, wav_path)\n",
    "loudness_steady = comp_loudness(True, signal, fs, field_type = 'free')\n",
    "\n",
    "spec = loudness_steady['specific values']\n",
    "bank = np.linspace(0, 24, num=len(spec)) + 1\n",
    "\n",
    "loudness_spec_center_log           = np.sum( np.log2( bank) * spec) / np.sum(spec)\n",
    "loudness_spec_center                   = np.sum( bank * spec) / np.sum(spec)\n",
    "loudness_spec_center_log_pow = np.sum( np.log2( bank) * spec**2) / np.sum(spec**2)\n",
    "loudness_spec_center_pow         = np.sum( bank * spec**2) / np.sum(spec**2)\n",
    "\n",
    "loudness_unsteady = comp_loudness(False, signal, fs, field_type = 'free')\n",
    "sone = loudness_unsteady['values']\n",
    "time = np.linspace(0,0.002*(sone.size - 1), sone.size)\n",
    "\n",
    "loudness_unsteady_mean = np.mean(sone)\n",
    "loudness_unsteady_std = np.std(sone)\n",
    "loudness_unsteady_skew = scipy.stats.skew(sone)\n",
    "loudness_unsteady_kurtosis = scipy.stats.kurtosis(sone)"
   ]
  },
  {
   "cell_type": "markdown",
   "id": "9ee77365",
   "metadata": {},
   "source": [
    "# Sharpness を追加する"
   ]
  },
  {
   "cell_type": "code",
   "execution_count": null,
   "id": "1a8dae0d",
   "metadata": {},
   "outputs": [],
   "source": []
  }
 ],
 "metadata": {
  "kernelspec": {
   "display_name": "Python 3",
   "language": "python",
   "name": "python3"
  },
  "language_info": {
   "codemirror_mode": {
    "name": "ipython",
    "version": 3
   },
   "file_extension": ".py",
   "mimetype": "text/x-python",
   "name": "python",
   "nbconvert_exporter": "python",
   "pygments_lexer": "ipython3",
   "version": "3.7.9"
  }
 },
 "nbformat": 4,
 "nbformat_minor": 5
}
