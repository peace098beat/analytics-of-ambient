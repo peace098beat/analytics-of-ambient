{
 "cells": [
  {
   "cell_type": "code",
   "execution_count": 1,
   "id": "5094ab0f",
   "metadata": {},
   "outputs": [],
   "source": [
    "from pathlib import Path\n",
    "import numpy as np\n",
    "import pandas as pd\n",
    "from matplotlib import pyplot as plt\n",
    "import japanize_matplotlib\n",
    "import seaborn\n",
    "\n",
    "import warnings\n",
    "warnings.simplefilter('ignore')\n"
   ]
  },
  {
   "cell_type": "code",
   "execution_count": 2,
   "id": "b12f0490",
   "metadata": {},
   "outputs": [],
   "source": [
    "from mosqito.classes.Audio import Audio\n",
    "from mosqito import COLORS"
   ]
  },
  {
   "cell_type": "code",
   "execution_count": 3,
   "id": "a37a1beb",
   "metadata": {},
   "outputs": [],
   "source": [
    "DATA1_DIR = \"../data/01_raw/1_boubakiki\"\n",
    "OUT1_DIR = \"../data/01_raw/1_boubakiki_mono/\"\n",
    "DATA2_DIR = \"../data/01_raw/2_record\"\n",
    "OUT2_DIR = \"../data/01_raw/2_record_mono/\"\n"
   ]
  },
  {
   "cell_type": "code",
   "execution_count": 4,
   "id": "bb6511c7",
   "metadata": {},
   "outputs": [
    {
     "data": {
      "text/plain": [
       "['../data/01_raw/1_boubakiki/1_bouba_woman.wav',\n",
       " '../data/01_raw/1_boubakiki/2_kiki_woman.wav',\n",
       " '../data/01_raw/1_boubakiki/3_bouba_like_kiki_woman.wav',\n",
       " '../data/01_raw/1_boubakiki/4_kiki_like_bouba_woman.wav',\n",
       " '../data/01_raw/1_boubakiki/5_bouba_man.wav',\n",
       " '../data/01_raw/1_boubakiki/6_kiki_man.wav',\n",
       " '../data/01_raw/1_boubakiki/7_bouba_like_kiki_man.wav',\n",
       " '../data/01_raw/1_boubakiki/8_kiki_like_bouba_man.wav']"
      ]
     },
     "execution_count": 4,
     "metadata": {},
     "output_type": "execute_result"
    }
   ],
   "source": [
    "wav1_paths = [str(p) for p in list(Path(DATA1_DIR).glob(\"*.wav\")) ]\n",
    "wav1_paths.sort()\n",
    "wav1_paths"
   ]
  },
  {
   "cell_type": "code",
   "execution_count": 5,
   "id": "48ad4297",
   "metadata": {},
   "outputs": [
    {
     "data": {
      "text/plain": [
       "['../data/01_raw/2_record/cicada_carpark.wav',\n",
       " '../data/01_raw/2_record/rain_lot.wav',\n",
       " '../data/01_raw/2_record/rain_tap_umbrella.wav',\n",
       " '../data/01_raw/2_record/raindrops_tap_ground(asphalt).wav',\n",
       " '../data/01_raw/2_record/river_into_hand.wav',\n",
       " '../data/01_raw/2_record/river_stone_throw.wav',\n",
       " '../data/01_raw/2_record/shinkansen.wav',\n",
       " '../data/01_raw/2_record/tokyocity_bakurocho.wav',\n",
       " '../data/01_raw/2_record/tokyostation.wav']"
      ]
     },
     "execution_count": 5,
     "metadata": {},
     "output_type": "execute_result"
    }
   ],
   "source": [
    "wav2_paths = [str(p) for p in list(Path(DATA2_DIR).glob(\"*.wav\")) ]\n",
    "wav2_paths.sort()\n",
    "wav2_paths"
   ]
  },
  {
   "cell_type": "code",
   "execution_count": 6,
   "id": "85bb4cee",
   "metadata": {},
   "outputs": [
    {
     "name": "stdout",
     "output_type": "stream",
     "text": [
      "../data/01_raw/1_boubakiki_mono/1_bouba_woman.mono.wav\n",
      "../data/01_raw/1_boubakiki_mono/2_kiki_woman.mono.wav\n",
      "../data/01_raw/1_boubakiki_mono/3_bouba_like_kiki_woman.mono.wav\n",
      "../data/01_raw/1_boubakiki_mono/4_kiki_like_bouba_woman.mono.wav\n",
      "../data/01_raw/1_boubakiki_mono/5_bouba_man.mono.wav\n",
      "../data/01_raw/1_boubakiki_mono/6_kiki_man.mono.wav\n",
      "../data/01_raw/1_boubakiki_mono/7_bouba_like_kiki_man.mono.wav\n",
      "../data/01_raw/1_boubakiki_mono/8_kiki_like_bouba_man.mono.wav\n"
     ]
    }
   ],
   "source": [
    "def convert_mono(snd_path, out_dir):\n",
    "    import subprocess\n",
    "    Path(out_dir).mkdir(exist_ok=True, parents=True)\n",
    "    \n",
    "    out_path = Path(out_dir) / Path(snd_path).name\n",
    "    \n",
    "    out_path = Path(out_path).with_suffix(\".mono.wav\")\n",
    "    subprocess.call(['ffmpeg', '-i', snd_path, '-ac', \"1\", \"-ar\", \"44100\",\n",
    "                str(out_path)])\n",
    "    \n",
    "    return out_path\n",
    "\n",
    "\n",
    "for wav_p in wav1_paths:\n",
    "    w = convert_mono(wav_p, OUT1_DIR, )\n",
    "    print(w)\n",
    "    \n",
    "\n",
    "# for wav_p in wav2_paths:\n",
    "#     w = convert_mono(wav_p, OUT2_DIR, )\n",
    "#     print(w)"
   ]
  },
  {
   "cell_type": "markdown",
   "id": "f7c44e20",
   "metadata": {},
   "source": [
    "end"
   ]
  },
  {
   "cell_type": "code",
   "execution_count": null,
   "id": "bb88175b",
   "metadata": {},
   "outputs": [],
   "source": []
  },
  {
   "cell_type": "code",
   "execution_count": null,
   "id": "865f062a",
   "metadata": {},
   "outputs": [],
   "source": []
  },
  {
   "cell_type": "code",
   "execution_count": null,
   "id": "9856b8f9",
   "metadata": {},
   "outputs": [],
   "source": []
  },
  {
   "cell_type": "code",
   "execution_count": null,
   "id": "64c90260",
   "metadata": {},
   "outputs": [],
   "source": []
  },
  {
   "cell_type": "code",
   "execution_count": null,
   "id": "33e457fa",
   "metadata": {},
   "outputs": [],
   "source": []
  }
 ],
 "metadata": {
  "kernelspec": {
   "display_name": "Python 3",
   "language": "python",
   "name": "python3"
  },
  "language_info": {
   "codemirror_mode": {
    "name": "ipython",
    "version": 3
   },
   "file_extension": ".py",
   "mimetype": "text/x-python",
   "name": "python",
   "nbconvert_exporter": "python",
   "pygments_lexer": "ipython3",
   "version": "3.7.9"
  }
 },
 "nbformat": 4,
 "nbformat_minor": 5
}
