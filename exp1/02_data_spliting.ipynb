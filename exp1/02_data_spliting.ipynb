{
 "cells": [
  {
   "cell_type": "markdown",
   "id": "560c4bd7",
   "metadata": {},
   "source": [
    "# Analytics of Ambient\n",
    "\n",
    "- 作業環境\n",
    "    - https://miro.com/app/board/o9J_l9jSAOo=/\n",
    "    - https://drive.google.com/drive/folders/1wnKK2SaN9DgPUa2PFSJbwizaDHOHitGc?usp=sharing\n",
    " "
   ]
  },
  {
   "cell_type": "markdown",
   "id": "c1f1a8c0",
   "metadata": {},
   "source": [
    "## やりたいこと\n",
    "\n",
    " - ある音のラウドネスとシャープネスなどの指標でマッピングする\n",
    " \n",
    "## 課題\n",
    "\n",
    " - 音を分割するひつようがある. \n",
    "     - N 秒\n",
    " - 心理音響指標をpythonで出せるか\n",
    "     - [MoSQITo/tuto_signal_basic_operations.ipynb at master · Eomys/MoSQITo · GitHub](https://github.com/Eomys/MoSQITo/blob/master/tutorials/tuto_signal_basic_operations.ipynb)\n",
    "\n",
    "## 進め方\n",
    "\n",
    " - 1. 音を聴く.\n",
    " - 2. 心理音響指標算出\n",
    " \n",
    " \n",
    " ## 結果\n",
    "  - 音源が長くて心理音響指標が計算できない\n",
    " \n",
    " ## 変更\n",
    "  - 音源を5秒刻みに変更\n",
    "  - 中間3秒だけで心理音響指標を算出\n",
    "  - jsonで保存"
   ]
  },
  {
   "cell_type": "code",
   "execution_count": 8,
   "id": "9aa8bbae",
   "metadata": {},
   "outputs": [],
   "source": [
    "from pathlib import Path\n",
    "import numpy as np\n",
    "import pandas as pd\n",
    "from matplotlib import pyplot as plt\n",
    "import japanize_matplotlib\n",
    "import seaborn\n",
    "\n",
    "import librosa\n",
    "import librosa.display\n",
    "\n",
    "\n",
    "import warnings\n",
    "warnings.simplefilter('ignore')\n"
   ]
  },
  {
   "cell_type": "code",
   "execution_count": 9,
   "id": "339163b3",
   "metadata": {},
   "outputs": [],
   "source": [
    "\n",
    "def _mkdir(p, exist_ok=True, parents=True):\n",
    "\t# Path(OUT_DIR).mkdir(exist_ok=True, parents=True)\n",
    "    p.mkdir(exist_ok=True, parents=True)\n",
    "    return p\n",
    "\n",
    "Path.fmkdir = _mkdir"
   ]
  },
  {
   "cell_type": "markdown",
   "id": "7cc35416",
   "metadata": {},
   "source": [
    "# Utils"
   ]
  },
  {
   "cell_type": "code",
   "execution_count": 10,
   "id": "fee0a467",
   "metadata": {},
   "outputs": [],
   "source": [
    "# !git clone https://github.com/AllenDowney/ThinkDSP.git \n"
   ]
  },
  {
   "cell_type": "code",
   "execution_count": 11,
   "id": "8f1040fa",
   "metadata": {},
   "outputs": [],
   "source": [
    "# import sys\n",
    "# sys.path.insert(0, 'ThinkDSP/code/') \n",
    "# import thinkdsp\n",
    "# import IPython\n",
    "\n",
    "# def play_sound(snd_path):\n",
    "#     wave = thinkdsp.read_wave(f\"{snd_path}.wav\") # Paste this into the previous examples\n",
    "#     return wave\n",
    "\n",
    "# # IPython.display.Audio('sound.wav')\n"
   ]
  },
  {
   "cell_type": "markdown",
   "id": "a017ff56",
   "metadata": {},
   "source": [
    "## Split"
   ]
  },
  {
   "cell_type": "code",
   "execution_count": 14,
   "id": "639bb916",
   "metadata": {},
   "outputs": [
    {
     "data": {
      "text/plain": [
       "PosixPath('data/wav-splits')"
      ]
     },
     "execution_count": 14,
     "metadata": {},
     "output_type": "execute_result"
    }
   ],
   "source": [
    "DATA_DIR = \"data/wav\"\n",
    "assert Path(DATA_DIR).exists()\n",
    "\n",
    "OUT_DIR = \"data/wav-splits\"\n",
    "Path(OUT_DIR).fmkdir()"
   ]
  },
  {
   "cell_type": "code",
   "execution_count": 15,
   "id": "3eb333b6",
   "metadata": {},
   "outputs": [
    {
     "data": {
      "text/plain": [
       "['data/wav/1.バスタ新宿 4f 高速バス乗り場 C7乗り場前.mono.wav',\n",
       " 'data/wav/10.古市小学校前.mono.wav',\n",
       " 'data/wav/11.東大通パーク.mono.wav',\n",
       " 'data/wav/12.東大通パーク2.mono.wav',\n",
       " 'data/wav/13.浜松朝.mono.wav',\n",
       " 'data/wav/14.阿佐ヶ谷シェアハウス前雨.mono.wav',\n",
       " 'data/wav/15.新宿駅湘南新宿ライン1番プラットホーム.mono.wav',\n",
       " 'data/wav/16.新川崎駅高架.mono.wav',\n",
       " 'data/wav/17.渋谷スクランブル交差点.mono.wav',\n",
       " 'data/wav/18.渋谷センター街.mono.wav',\n",
       " 'data/wav/2.新宿駅JR中央線東京行きプラットホーム.mono.wav',\n",
       " 'data/wav/3.夜行バス清水.mono.wav',\n",
       " 'data/wav/4.大阪梅田.mono.wav',\n",
       " 'data/wav/5.うめだ駅構内.mono.wav',\n",
       " 'data/wav/6.地下鉄梅田御堂筋線.mono.wav',\n",
       " 'data/wav/7.近鉄あべの橋車内.mono.wav',\n",
       " 'data/wav/8.近鉄河内長野-藤井寺車内.mono.wav',\n",
       " 'data/wav/9.白鳥神社.mono.wav']"
      ]
     },
     "execution_count": 15,
     "metadata": {},
     "output_type": "execute_result"
    }
   ],
   "source": [
    "wave_paths = list(Path(DATA_DIR).glob(\"*.mono.wav\"))\n",
    "wave_paths = [str(p) for p in wave_paths]\n",
    "wave_paths.sort()\n",
    "wave_paths"
   ]
  },
  {
   "cell_type": "code",
   "execution_count": 16,
   "id": "d54ee0d2",
   "metadata": {
    "scrolled": false
   },
   "outputs": [
    {
     "name": "stdout",
     "output_type": "stream",
     "text": [
      "data/wav/1.バスタ新宿 4f 高速バス乗り場 C7乗り場前.mono.wav\n",
      "sr 22050\n",
      "data/wav-splits/1.バスタ新宿 4f 高速バス乗り場 C7乗り場前.mono.0.wav 0 110250\n",
      "data/wav-splits/1.バスタ新宿 4f 高速バス乗り場 C7乗り場前.mono.1.wav 110250 220500\n",
      "data/wav-splits/1.バスタ新宿 4f 高速バス乗り場 C7乗り場前.mono.2.wav 220500 330750\n",
      "data/wav-splits/1.バスタ新宿 4f 高速バス乗り場 C7乗り場前.mono.3.wav 330750 441000\n",
      "data/wav-splits/1.バスタ新宿 4f 高速バス乗り場 C7乗り場前.mono.4.wav 441000 551250\n",
      "data/wav-splits/1.バスタ新宿 4f 高速バス乗り場 C7乗り場前.mono.5.wav 551250 661500\n",
      "data/wav/10.古市小学校前.mono.wav\n",
      "sr 22050\n",
      "data/wav-splits/10.古市小学校前.mono.0.wav 0 110250\n",
      "data/wav-splits/10.古市小学校前.mono.1.wav 110250 220500\n",
      "data/wav-splits/10.古市小学校前.mono.2.wav 220500 330750\n",
      "data/wav-splits/10.古市小学校前.mono.3.wav 330750 441000\n",
      "data/wav-splits/10.古市小学校前.mono.4.wav 441000 551250\n",
      "data/wav-splits/10.古市小学校前.mono.5.wav 551250 661500\n",
      "data/wav/11.東大通パーク.mono.wav\n",
      "sr 22050\n",
      "data/wav-splits/11.東大通パーク.mono.0.wav 0 110250\n",
      "data/wav-splits/11.東大通パーク.mono.1.wav 110250 220500\n",
      "data/wav-splits/11.東大通パーク.mono.2.wav 220500 330750\n",
      "data/wav-splits/11.東大通パーク.mono.3.wav 330750 441000\n",
      "data/wav-splits/11.東大通パーク.mono.4.wav 441000 551250\n",
      "data/wav-splits/11.東大通パーク.mono.5.wav 551250 661500\n",
      "data/wav/12.東大通パーク2.mono.wav\n",
      "sr 22050\n",
      "data/wav-splits/12.東大通パーク2.mono.0.wav 0 110250\n",
      "data/wav-splits/12.東大通パーク2.mono.1.wav 110250 220500\n",
      "data/wav-splits/12.東大通パーク2.mono.2.wav 220500 330750\n",
      "data/wav-splits/12.東大通パーク2.mono.3.wav 330750 441000\n",
      "data/wav-splits/12.東大通パーク2.mono.4.wav 441000 551250\n",
      "data/wav-splits/12.東大通パーク2.mono.5.wav 551250 661500\n",
      "data/wav/13.浜松朝.mono.wav\n",
      "sr 22050\n",
      "data/wav-splits/13.浜松朝.mono.0.wav 0 110250\n",
      "data/wav-splits/13.浜松朝.mono.1.wav 110250 220500\n",
      "data/wav-splits/13.浜松朝.mono.2.wav 220500 330750\n",
      "data/wav-splits/13.浜松朝.mono.3.wav 330750 441000\n",
      "data/wav-splits/13.浜松朝.mono.4.wav 441000 551250\n",
      "data/wav-splits/13.浜松朝.mono.5.wav 551250 661500\n",
      "data/wav/14.阿佐ヶ谷シェアハウス前雨.mono.wav\n",
      "sr 22050\n",
      "data/wav-splits/14.阿佐ヶ谷シェアハウス前雨.mono.0.wav 0 110250\n",
      "data/wav-splits/14.阿佐ヶ谷シェアハウス前雨.mono.1.wav 110250 220500\n",
      "data/wav-splits/14.阿佐ヶ谷シェアハウス前雨.mono.2.wav 220500 330750\n",
      "data/wav-splits/14.阿佐ヶ谷シェアハウス前雨.mono.3.wav 330750 441000\n",
      "data/wav-splits/14.阿佐ヶ谷シェアハウス前雨.mono.4.wav 441000 551250\n",
      "data/wav-splits/14.阿佐ヶ谷シェアハウス前雨.mono.5.wav 551250 661500\n",
      "data/wav/15.新宿駅湘南新宿ライン1番プラットホーム.mono.wav\n",
      "sr 22050\n",
      "data/wav-splits/15.新宿駅湘南新宿ライン1番プラットホーム.mono.0.wav 0 110250\n",
      "data/wav-splits/15.新宿駅湘南新宿ライン1番プラットホーム.mono.1.wav 110250 220500\n",
      "data/wav-splits/15.新宿駅湘南新宿ライン1番プラットホーム.mono.2.wav 220500 330750\n",
      "data/wav-splits/15.新宿駅湘南新宿ライン1番プラットホーム.mono.3.wav 330750 441000\n",
      "data/wav-splits/15.新宿駅湘南新宿ライン1番プラットホーム.mono.4.wav 441000 551250\n",
      "data/wav-splits/15.新宿駅湘南新宿ライン1番プラットホーム.mono.5.wav 551250 661500\n",
      "data/wav/16.新川崎駅高架.mono.wav\n",
      "sr 22050\n",
      "data/wav-splits/16.新川崎駅高架.mono.0.wav 0 110250\n",
      "data/wav-splits/16.新川崎駅高架.mono.1.wav 110250 220500\n",
      "data/wav-splits/16.新川崎駅高架.mono.2.wav 220500 330750\n",
      "data/wav-splits/16.新川崎駅高架.mono.3.wav 330750 441000\n",
      "data/wav-splits/16.新川崎駅高架.mono.4.wav 441000 551250\n",
      "data/wav-splits/16.新川崎駅高架.mono.5.wav 551250 661500\n",
      "data/wav/17.渋谷スクランブル交差点.mono.wav\n",
      "sr 22050\n",
      "data/wav-splits/17.渋谷スクランブル交差点.mono.0.wav 0 110250\n",
      "data/wav-splits/17.渋谷スクランブル交差点.mono.1.wav 110250 220500\n",
      "data/wav-splits/17.渋谷スクランブル交差点.mono.2.wav 220500 330750\n",
      "data/wav-splits/17.渋谷スクランブル交差点.mono.3.wav 330750 441000\n",
      "data/wav-splits/17.渋谷スクランブル交差点.mono.4.wav 441000 551250\n",
      "data/wav-splits/17.渋谷スクランブル交差点.mono.5.wav 551250 661500\n",
      "data/wav/18.渋谷センター街.mono.wav\n",
      "sr 22050\n",
      "data/wav-splits/18.渋谷センター街.mono.0.wav 0 110250\n",
      "data/wav-splits/18.渋谷センター街.mono.1.wav 110250 220500\n",
      "data/wav-splits/18.渋谷センター街.mono.2.wav 220500 330750\n",
      "data/wav-splits/18.渋谷センター街.mono.3.wav 330750 441000\n",
      "data/wav-splits/18.渋谷センター街.mono.4.wav 441000 551250\n",
      "data/wav-splits/18.渋谷センター街.mono.5.wav 551250 661500\n",
      "data/wav/2.新宿駅JR中央線東京行きプラットホーム.mono.wav\n",
      "sr 22050\n",
      "data/wav-splits/2.新宿駅JR中央線東京行きプラットホーム.mono.0.wav 0 110250\n",
      "data/wav-splits/2.新宿駅JR中央線東京行きプラットホーム.mono.1.wav 110250 220500\n",
      "data/wav-splits/2.新宿駅JR中央線東京行きプラットホーム.mono.2.wav 220500 330750\n",
      "data/wav-splits/2.新宿駅JR中央線東京行きプラットホーム.mono.3.wav 330750 441000\n",
      "data/wav-splits/2.新宿駅JR中央線東京行きプラットホーム.mono.4.wav 441000 551250\n",
      "data/wav-splits/2.新宿駅JR中央線東京行きプラットホーム.mono.5.wav 551250 661500\n",
      "data/wav/3.夜行バス清水.mono.wav\n",
      "sr 22050\n",
      "data/wav-splits/3.夜行バス清水.mono.0.wav 0 110250\n",
      "data/wav-splits/3.夜行バス清水.mono.1.wav 110250 220500\n",
      "data/wav-splits/3.夜行バス清水.mono.2.wav 220500 330750\n",
      "data/wav-splits/3.夜行バス清水.mono.3.wav 330750 441000\n",
      "data/wav-splits/3.夜行バス清水.mono.4.wav 441000 551250\n",
      "data/wav-splits/3.夜行バス清水.mono.5.wav 551250 661500\n",
      "data/wav/4.大阪梅田.mono.wav\n",
      "sr 22050\n",
      "data/wav-splits/4.大阪梅田.mono.0.wav 0 110250\n",
      "data/wav-splits/4.大阪梅田.mono.1.wav 110250 220500\n",
      "data/wav-splits/4.大阪梅田.mono.2.wav 220500 330750\n",
      "data/wav-splits/4.大阪梅田.mono.3.wav 330750 441000\n",
      "data/wav-splits/4.大阪梅田.mono.4.wav 441000 551250\n",
      "data/wav-splits/4.大阪梅田.mono.5.wav 551250 661500\n",
      "data/wav/5.うめだ駅構内.mono.wav\n",
      "sr 22050\n",
      "data/wav-splits/5.うめだ駅構内.mono.0.wav 0 110250\n",
      "data/wav-splits/5.うめだ駅構内.mono.1.wav 110250 220500\n",
      "data/wav-splits/5.うめだ駅構内.mono.2.wav 220500 330750\n",
      "data/wav-splits/5.うめだ駅構内.mono.3.wav 330750 441000\n",
      "data/wav-splits/5.うめだ駅構内.mono.4.wav 441000 551250\n",
      "data/wav-splits/5.うめだ駅構内.mono.5.wav 551250 661500\n",
      "data/wav/6.地下鉄梅田御堂筋線.mono.wav\n",
      "sr 22050\n",
      "data/wav-splits/6.地下鉄梅田御堂筋線.mono.0.wav 0 110250\n",
      "data/wav-splits/6.地下鉄梅田御堂筋線.mono.1.wav 110250 220500\n",
      "data/wav-splits/6.地下鉄梅田御堂筋線.mono.2.wav 220500 330750\n",
      "data/wav-splits/6.地下鉄梅田御堂筋線.mono.3.wav 330750 441000\n",
      "data/wav-splits/6.地下鉄梅田御堂筋線.mono.4.wav 441000 551250\n",
      "data/wav-splits/6.地下鉄梅田御堂筋線.mono.5.wav 551250 661500\n",
      "data/wav/7.近鉄あべの橋車内.mono.wav\n",
      "sr 22050\n",
      "data/wav-splits/7.近鉄あべの橋車内.mono.0.wav 0 110250\n",
      "data/wav-splits/7.近鉄あべの橋車内.mono.1.wav 110250 220500\n",
      "data/wav-splits/7.近鉄あべの橋車内.mono.2.wav 220500 330750\n",
      "data/wav-splits/7.近鉄あべの橋車内.mono.3.wav 330750 441000\n",
      "data/wav-splits/7.近鉄あべの橋車内.mono.4.wav 441000 551250\n",
      "data/wav-splits/7.近鉄あべの橋車内.mono.5.wav 551250 661500\n",
      "data/wav/8.近鉄河内長野-藤井寺車内.mono.wav\n",
      "sr 22050\n",
      "data/wav-splits/8.近鉄河内長野-藤井寺車内.mono.0.wav 0 110250\n",
      "data/wav-splits/8.近鉄河内長野-藤井寺車内.mono.1.wav 110250 220500\n",
      "data/wav-splits/8.近鉄河内長野-藤井寺車内.mono.2.wav 220500 330750\n",
      "data/wav-splits/8.近鉄河内長野-藤井寺車内.mono.3.wav 330750 441000\n",
      "data/wav-splits/8.近鉄河内長野-藤井寺車内.mono.4.wav 441000 551250\n",
      "data/wav-splits/8.近鉄河内長野-藤井寺車内.mono.5.wav 551250 661500\n",
      "data/wav/9.白鳥神社.mono.wav\n",
      "sr 22050\n",
      "data/wav-splits/9.白鳥神社.mono.0.wav 0 110250\n",
      "data/wav-splits/9.白鳥神社.mono.1.wav 110250 220500\n",
      "data/wav-splits/9.白鳥神社.mono.2.wav 220500 330750\n",
      "data/wav-splits/9.白鳥神社.mono.3.wav 330750 441000\n",
      "data/wav-splits/9.白鳥神社.mono.4.wav 441000 551250\n",
      "data/wav-splits/9.白鳥神社.mono.5.wav 551250 661500\n"
     ]
    }
   ],
   "source": [
    "import soundfile \n",
    "\n",
    "OFFSET = 20\n",
    "TOTAL_DUR = 30\n",
    "SPLIT_DUR = 5\n",
    "\n",
    "# wav_path = wave_paths[0]\n",
    "for wav_path in wave_paths:\n",
    "    print(wav_path)\n",
    "    y_org, sr = librosa.load(wav_path, mono=True, offset=OFFSET, duration=TOTAL_DUR)\n",
    "    print(\"sr\", sr)\n",
    "\n",
    "    n_win = SPLIT_DUR * sr\n",
    "\n",
    "    for i in range(int(30/5)):\n",
    "        st = i * n_win\n",
    "        ed = st + n_win\n",
    "        y = y_org[st:ed]\n",
    "\n",
    "        out_path = Path(OUT_DIR) / Path(Path(wav_path).name).with_suffix(f\".{i}.wav\")\n",
    "        soundfile.write(out_path, y, sr)\n",
    "\n",
    "        print(out_path, st, ed)\n"
   ]
  },
  {
   "cell_type": "code",
   "execution_count": null,
   "id": "cadcb2cc",
   "metadata": {},
   "outputs": [],
   "source": []
  },
  {
   "cell_type": "code",
   "execution_count": null,
   "id": "8988f5f6",
   "metadata": {},
   "outputs": [],
   "source": []
  },
  {
   "cell_type": "code",
   "execution_count": null,
   "id": "3c97140b",
   "metadata": {},
   "outputs": [],
   "source": []
  },
  {
   "cell_type": "code",
   "execution_count": null,
   "id": "e9fe0fbb",
   "metadata": {},
   "outputs": [],
   "source": []
  },
  {
   "cell_type": "code",
   "execution_count": null,
   "id": "9dd6c945",
   "metadata": {},
   "outputs": [],
   "source": []
  },
  {
   "cell_type": "code",
   "execution_count": null,
   "id": "2374b571",
   "metadata": {},
   "outputs": [],
   "source": []
  },
  {
   "cell_type": "code",
   "execution_count": null,
   "id": "090256a5",
   "metadata": {},
   "outputs": [],
   "source": []
  }
 ],
 "metadata": {
  "kernelspec": {
   "display_name": "Python 3",
   "language": "python",
   "name": "python3"
  },
  "language_info": {
   "codemirror_mode": {
    "name": "ipython",
    "version": 3
   },
   "file_extension": ".py",
   "mimetype": "text/x-python",
   "name": "python",
   "nbconvert_exporter": "python",
   "pygments_lexer": "ipython3",
   "version": "3.7.9"
  }
 },
 "nbformat": 4,
 "nbformat_minor": 5
}
