{
 "cells": [
  {
   "cell_type": "markdown",
   "id": "560c4bd7",
   "metadata": {},
   "source": [
    "# Analytics of Ambient\n",
    "\n",
    "- 作業環境\n",
    "    - https://miro.com/app/board/o9J_l9jSAOo=/\n",
    "    - https://drive.google.com/drive/folders/1wnKK2SaN9DgPUa2PFSJbwizaDHOHitGc?usp=sharing\n",
    " "
   ]
  },
  {
   "cell_type": "markdown",
   "id": "c1f1a8c0",
   "metadata": {},
   "source": [
    "## やりたいこと\n",
    "\n",
    " - ある音のラウドネスとシャープネスなどの指標でマッピングする\n",
    " \n",
    "## 課題\n",
    "\n",
    " - 音を分割するひつようがある. \n",
    "     - N 秒\n",
    " - 心理音響指標をpythonで出せるか\n",
    "     - [MoSQITo/tuto_signal_basic_operations.ipynb at master · Eomys/MoSQITo · GitHub](https://github.com/Eomys/MoSQITo/blob/master/tutorials/tuto_signal_basic_operations.ipynb)\n",
    "\n",
    "## 進め方\n",
    "\n",
    " - 1. 音を聴く.\n",
    " - 2. 心理音響指標算出\n",
    " \n",
    " \n",
    " ## 結果\n",
    "  - 音源が長くて心理音響指標が計算できない\n",
    " \n",
    " ## 変更\n",
    "  - 音源を5秒刻みに変更\n",
    "  - 中間3秒だけで心理音響指標を算出\n",
    "  - jsonで保存"
   ]
  },
  {
   "cell_type": "markdown",
   "id": "7cc35416",
   "metadata": {},
   "source": [
    "# Utils"
   ]
  },
  {
   "cell_type": "code",
   "execution_count": 1,
   "id": "fee0a467",
   "metadata": {},
   "outputs": [
    {
     "name": "stdout",
     "output_type": "stream",
     "text": [
      "fatal: destination path 'ThinkDSP' already exists and is not an empty directory.\r\n"
     ]
    }
   ],
   "source": [
    "!git clone https://github.com/AllenDowney/ThinkDSP.git \n"
   ]
  },
  {
   "cell_type": "code",
   "execution_count": 2,
   "id": "8f1040fa",
   "metadata": {},
   "outputs": [],
   "source": [
    "import sys\n",
    "sys.path.insert(0, 'ThinkDSP/code/') \n",
    "import thinkdsp\n",
    "import IPython\n",
    "\n",
    "def play_sound(snd_path):\n",
    "    wave = thinkdsp.read_wave(f\"{snd_path}.wav\") # Paste this into the previous examples\n",
    "    return wave"
   ]
  },
  {
   "cell_type": "markdown",
   "id": "cbbb3de3",
   "metadata": {},
   "source": [
    "# mp4を見る"
   ]
  },
  {
   "cell_type": "code",
   "execution_count": 3,
   "id": "57a33e80",
   "metadata": {},
   "outputs": [],
   "source": [
    "from pathlib import Path\n",
    "import numpy as np\n",
    "import pandas as pd\n",
    "from matplotlib import pyplot as plt\n",
    "import japanize_matplotlib\n",
    "import seaborn\n",
    "\n",
    "import librosa\n",
    "import librosa.display\n",
    "\n",
    "import warnings\n",
    "warnings.simplefilter('ignore')\n"
   ]
  },
  {
   "cell_type": "code",
   "execution_count": 4,
   "id": "639bb916",
   "metadata": {},
   "outputs": [],
   "source": [
    "DATA_DIR = \"data/m4a\"\n",
    "assert Path(DATA_DIR).exists()\n",
    "\n",
    "WAV_DIR = \"data/wav\"\n",
    "assert Path(WAV_DIR).exists()"
   ]
  },
  {
   "cell_type": "code",
   "execution_count": 5,
   "id": "97b1299f",
   "metadata": {},
   "outputs": [
    {
     "data": {
      "text/plain": [
       "['data/m4a/12.東大通パーク2.m4a',\n",
       " 'data/m4a/13.浜松朝.m4a',\n",
       " 'data/m4a/2.新宿駅JR中央線東京行きプラットホーム.m4a',\n",
       " 'data/m4a/15.新宿駅湘南新宿ライン1番プラットホーム.m4a',\n",
       " 'data/m4a/4.大阪梅田.m4a',\n",
       " 'data/m4a/1.バスタ新宿 4f 高速バス乗り場 C7乗り場前.m4a',\n",
       " 'data/m4a/16.新川崎駅高架.m4a',\n",
       " 'data/m4a/18.渋谷センター街.m4a',\n",
       " 'data/m4a/8.近鉄河内長野-藤井寺車内.m4a',\n",
       " 'data/m4a/7.近鉄あべの橋車内.m4a',\n",
       " 'data/m4a/14.阿佐ヶ谷シェアハウス前雨.m4a',\n",
       " 'data/m4a/17.渋谷スクランブル交差点.m4a',\n",
       " 'data/m4a/11.東大通パーク.m4a',\n",
       " 'data/m4a/5.うめだ駅構内.m4a',\n",
       " 'data/m4a/6.地下鉄梅田御堂筋線.m4a',\n",
       " 'data/m4a/10.古市小学校前.m4a',\n",
       " 'data/m4a/9.白鳥神社.m4a',\n",
       " 'data/m4a/3.夜行バス清水.m4a']"
      ]
     },
     "execution_count": 5,
     "metadata": {},
     "output_type": "execute_result"
    }
   ],
   "source": [
    "m4a_paths = [str(p) for p in list(Path(DATA_DIR).glob(\"*.m4a\")) ]\n",
    "m4a_paths"
   ]
  },
  {
   "cell_type": "markdown",
   "id": "cbfbbdba",
   "metadata": {},
   "source": [
    "### m4aをWavに変換"
   ]
  },
  {
   "cell_type": "code",
   "execution_count": 6,
   "id": "f80e835e",
   "metadata": {},
   "outputs": [],
   "source": [
    "def convert_wav(snd_path, out_dir, mono=True):\n",
    "    import subprocess\n",
    "    \n",
    "    wav_path = Path(out_dir) / Path(snd_path).name\n",
    "    \n",
    "    if mono:\n",
    "        wav_path = Path(wav_path).with_suffix(\".mono.wav\")\n",
    "        subprocess.call(['ffmpeg', '-i', snd_path, '-ac', \"1\", \"-ar\", \"44100\",\n",
    "                    str(wav_path)])\n",
    "    else:\n",
    "        wav_path = Path(wav_path).with_suffix(\".wav\")\n",
    "        subprocess.call(['ffmpeg', '-i', snd_path,\n",
    "                    str(wav_path)])\n",
    "    \n",
    "    return wav_path\n"
   ]
  },
  {
   "cell_type": "code",
   "execution_count": 7,
   "id": "4cf10aa9",
   "metadata": {},
   "outputs": [
    {
     "name": "stdout",
     "output_type": "stream",
     "text": [
      "data/wav/12.東大通パーク2.mono.wav\n",
      "data/wav/13.浜松朝.mono.wav\n",
      "data/wav/2.新宿駅JR中央線東京行きプラットホーム.mono.wav\n",
      "data/wav/15.新宿駅湘南新宿ライン1番プラットホーム.mono.wav\n",
      "data/wav/4.大阪梅田.mono.wav\n",
      "data/wav/1.バスタ新宿 4f 高速バス乗り場 C7乗り場前.mono.wav\n",
      "data/wav/16.新川崎駅高架.mono.wav\n",
      "data/wav/18.渋谷センター街.mono.wav\n",
      "data/wav/8.近鉄河内長野-藤井寺車内.mono.wav\n",
      "data/wav/7.近鉄あべの橋車内.mono.wav\n",
      "data/wav/14.阿佐ヶ谷シェアハウス前雨.mono.wav\n",
      "data/wav/17.渋谷スクランブル交差点.mono.wav\n",
      "data/wav/11.東大通パーク.mono.wav\n",
      "data/wav/5.うめだ駅構内.mono.wav\n",
      "data/wav/6.地下鉄梅田御堂筋線.mono.wav\n",
      "data/wav/10.古市小学校前.mono.wav\n",
      "data/wav/9.白鳥神社.mono.wav\n",
      "data/wav/3.夜行バス清水.mono.wav\n"
     ]
    }
   ],
   "source": [
    "for m4a in m4a_paths:\n",
    "    wav_p = convert_wav(m4a, out_dir=WAV_DIR, mono=True)\n",
    "    print(wav_p)"
   ]
  },
  {
   "cell_type": "markdown",
   "id": "a017ff56",
   "metadata": {},
   "source": [
    "## 聞いてみる"
   ]
  },
  {
   "cell_type": "code",
   "execution_count": 8,
   "id": "260352d0",
   "metadata": {},
   "outputs": [],
   "source": [
    "from mosqito.classes.Audio import Audio\n",
    "from mosqito import COLORS"
   ]
  },
  {
   "cell_type": "code",
   "execution_count": 9,
   "id": "a42a5a64",
   "metadata": {},
   "outputs": [
    {
     "data": {
      "text/plain": [
       "['data/wav/1.バスタ新宿 4f 高速バス乗り場 C7乗り場前.mono.wav',\n",
       " 'data/wav/10.古市小学校前.mono.wav',\n",
       " 'data/wav/11.東大通パーク.mono.wav',\n",
       " 'data/wav/12.東大通パーク2.mono.wav',\n",
       " 'data/wav/13.浜松朝.mono.wav',\n",
       " 'data/wav/14.阿佐ヶ谷シェアハウス前雨.mono.wav',\n",
       " 'data/wav/15.新宿駅湘南新宿ライン1番プラットホーム.mono.wav',\n",
       " 'data/wav/16.新川崎駅高架.mono.wav',\n",
       " 'data/wav/17.渋谷スクランブル交差点.mono.wav',\n",
       " 'data/wav/18.渋谷センター街.mono.wav',\n",
       " 'data/wav/2.新宿駅JR中央線東京行きプラットホーム.mono.wav',\n",
       " 'data/wav/3.夜行バス清水.mono.wav',\n",
       " 'data/wav/4.大阪梅田.mono.wav',\n",
       " 'data/wav/5.うめだ駅構内.mono.wav',\n",
       " 'data/wav/6.地下鉄梅田御堂筋線.mono.wav',\n",
       " 'data/wav/7.近鉄あべの橋車内.mono.wav',\n",
       " 'data/wav/8.近鉄河内長野-藤井寺車内.mono.wav',\n",
       " 'data/wav/9.白鳥神社.mono.wav']"
      ]
     },
     "execution_count": 9,
     "metadata": {},
     "output_type": "execute_result"
    }
   ],
   "source": [
    "wave_paths = list(Path(WAV_DIR).glob(\"*.mono.wav\"))\n",
    "wave_paths = [str(p) for p in wave_paths]\n",
    "wave_paths.sort()\n",
    "wave_paths"
   ]
  },
  {
   "cell_type": "code",
   "execution_count": 10,
   "id": "3de7bfb7",
   "metadata": {},
   "outputs": [],
   "source": [
    "def plot_wave(wave_path):\n",
    "    print(wave_path)\n",
    "    woodpecker = Audio(wave_path)\n",
    "    \n",
    "    woodpecker.signal.plot_2D_Data(\n",
    "        \"time\",\n",
    "        type_plot=\"curve\",\n",
    "        color_list=COLORS,\n",
    "    )\n",
    "\n",
    "    return woodpecker"
   ]
  },
  {
   "cell_type": "code",
   "execution_count": 11,
   "id": "06f448c7",
   "metadata": {},
   "outputs": [
    {
     "name": "stdout",
     "output_type": "stream",
     "text": [
      "data/wav/1.バスタ新宿 4f 高速バス乗り場 C7乗り場前.mono.wav\n",
      "Signal resampled to 48 kHz to allow calculation.\n"
     ]
    },
    {
     "ename": "ValueError",
     "evalue": "rate must be specified when data is a numpy array or list of audio samples.",
     "output_type": "error",
     "traceback": [
      "\u001b[0;31m---------------------------------------------------------------------------\u001b[0m",
      "\u001b[0;31mValueError\u001b[0m                                Traceback (most recent call last)",
      "\u001b[0;32m<timed exec>\u001b[0m in \u001b[0;36m<module>\u001b[0;34m\u001b[0m\n",
      "\u001b[0;32m~/.pyenv/versions/3.7.9/lib/python3.7/site-packages/IPython/lib/display.py\u001b[0m in \u001b[0;36m__init__\u001b[0;34m(self, data, filename, url, embed, rate, autoplay, normalize, element_id)\u001b[0m\n\u001b[1;32m    114\u001b[0m         \u001b[0;32mif\u001b[0m \u001b[0mself\u001b[0m\u001b[0;34m.\u001b[0m\u001b[0mdata\u001b[0m \u001b[0;32mis\u001b[0m \u001b[0;32mnot\u001b[0m \u001b[0;32mNone\u001b[0m \u001b[0;32mand\u001b[0m \u001b[0;32mnot\u001b[0m \u001b[0misinstance\u001b[0m\u001b[0;34m(\u001b[0m\u001b[0mself\u001b[0m\u001b[0;34m.\u001b[0m\u001b[0mdata\u001b[0m\u001b[0;34m,\u001b[0m \u001b[0mbytes\u001b[0m\u001b[0;34m)\u001b[0m\u001b[0;34m:\u001b[0m\u001b[0;34m\u001b[0m\u001b[0;34m\u001b[0m\u001b[0m\n\u001b[1;32m    115\u001b[0m             \u001b[0;32mif\u001b[0m \u001b[0mrate\u001b[0m \u001b[0;32mis\u001b[0m \u001b[0;32mNone\u001b[0m\u001b[0;34m:\u001b[0m\u001b[0;34m\u001b[0m\u001b[0;34m\u001b[0m\u001b[0m\n\u001b[0;32m--> 116\u001b[0;31m                 \u001b[0;32mraise\u001b[0m \u001b[0mValueError\u001b[0m\u001b[0;34m(\u001b[0m\u001b[0;34m\"rate must be specified when data is a numpy array or list of audio samples.\"\u001b[0m\u001b[0;34m)\u001b[0m\u001b[0;34m\u001b[0m\u001b[0;34m\u001b[0m\u001b[0m\n\u001b[0m\u001b[1;32m    117\u001b[0m             \u001b[0mself\u001b[0m\u001b[0;34m.\u001b[0m\u001b[0mdata\u001b[0m \u001b[0;34m=\u001b[0m \u001b[0mAudio\u001b[0m\u001b[0;34m.\u001b[0m\u001b[0m_make_wav\u001b[0m\u001b[0;34m(\u001b[0m\u001b[0mdata\u001b[0m\u001b[0;34m,\u001b[0m \u001b[0mrate\u001b[0m\u001b[0;34m,\u001b[0m \u001b[0mnormalize\u001b[0m\u001b[0;34m)\u001b[0m\u001b[0;34m\u001b[0m\u001b[0;34m\u001b[0m\u001b[0m\n\u001b[1;32m    118\u001b[0m \u001b[0;34m\u001b[0m\u001b[0m\n",
      "\u001b[0;31mValueError\u001b[0m: rate must be specified when data is a numpy array or list of audio samples."
     ]
    },
    {
     "data": {
      "image/png": "[encoded data removed]",
      "text/plain": [
       "<Figure size 576x288 with 1 Axes>"
      ]
     },
     "metadata": {
      "needs_background": "light"
     },
     "output_type": "display_data"
    }
   ],
   "source": [
    "%%time\n",
    "wp = plot_wave(wave_paths[0])\n",
    "IPython.display.Audio('sound.wav')"
   ]
  },
  {
   "cell_type": "code",
   "execution_count": 12,
   "id": "ca55d741",
   "metadata": {},
   "outputs": [
    {
     "name": "stdout",
     "output_type": "stream",
     "text": [
      "data/wav/10.古市小学校前.mono.wav\n",
      "Signal resampled to 48 kHz to allow calculation.\n"
     ]
    },
    {
     "ename": "ValueError",
     "evalue": "rate must be specified when data is a numpy array or list of audio samples.",
     "output_type": "error",
     "traceback": [
      "\u001b[0;31m---------------------------------------------------------------------------\u001b[0m",
      "\u001b[0;31mValueError\u001b[0m                                Traceback (most recent call last)",
      "\u001b[0;32m<ipython-input-12-b65649444b2a>\u001b[0m in \u001b[0;36m<module>\u001b[0;34m\u001b[0m\n\u001b[1;32m      1\u001b[0m \u001b[0mplot_wave\u001b[0m\u001b[0;34m(\u001b[0m\u001b[0mwave_paths\u001b[0m\u001b[0;34m[\u001b[0m\u001b[0;36m1\u001b[0m\u001b[0;34m]\u001b[0m\u001b[0;34m)\u001b[0m\u001b[0;34m\u001b[0m\u001b[0;34m\u001b[0m\u001b[0m\n\u001b[0;32m----> 2\u001b[0;31m \u001b[0mIPython\u001b[0m\u001b[0;34m.\u001b[0m\u001b[0mdisplay\u001b[0m\u001b[0;34m.\u001b[0m\u001b[0mAudio\u001b[0m\u001b[0;34m(\u001b[0m\u001b[0;34m'sound.wav'\u001b[0m\u001b[0;34m)\u001b[0m\u001b[0;34m\u001b[0m\u001b[0;34m\u001b[0m\u001b[0m\n\u001b[0m",
      "\u001b[0;32m~/.pyenv/versions/3.7.9/lib/python3.7/site-packages/IPython/lib/display.py\u001b[0m in \u001b[0;36m__init__\u001b[0;34m(self, data, filename, url, embed, rate, autoplay, normalize, element_id)\u001b[0m\n\u001b[1;32m    114\u001b[0m         \u001b[0;32mif\u001b[0m \u001b[0mself\u001b[0m\u001b[0;34m.\u001b[0m\u001b[0mdata\u001b[0m \u001b[0;32mis\u001b[0m \u001b[0;32mnot\u001b[0m \u001b[0;32mNone\u001b[0m \u001b[0;32mand\u001b[0m \u001b[0;32mnot\u001b[0m \u001b[0misinstance\u001b[0m\u001b[0;34m(\u001b[0m\u001b[0mself\u001b[0m\u001b[0;34m.\u001b[0m\u001b[0mdata\u001b[0m\u001b[0;34m,\u001b[0m \u001b[0mbytes\u001b[0m\u001b[0;34m)\u001b[0m\u001b[0;34m:\u001b[0m\u001b[0;34m\u001b[0m\u001b[0;34m\u001b[0m\u001b[0m\n\u001b[1;32m    115\u001b[0m             \u001b[0;32mif\u001b[0m \u001b[0mrate\u001b[0m \u001b[0;32mis\u001b[0m \u001b[0;32mNone\u001b[0m\u001b[0;34m:\u001b[0m\u001b[0;34m\u001b[0m\u001b[0;34m\u001b[0m\u001b[0m\n\u001b[0;32m--> 116\u001b[0;31m                 \u001b[0;32mraise\u001b[0m \u001b[0mValueError\u001b[0m\u001b[0;34m(\u001b[0m\u001b[0;34m\"rate must be specified when data is a numpy array or list of audio samples.\"\u001b[0m\u001b[0;34m)\u001b[0m\u001b[0;34m\u001b[0m\u001b[0;34m\u001b[0m\u001b[0m\n\u001b[0m\u001b[1;32m    117\u001b[0m             \u001b[0mself\u001b[0m\u001b[0;34m.\u001b[0m\u001b[0mdata\u001b[0m \u001b[0;34m=\u001b[0m \u001b[0mAudio\u001b[0m\u001b[0;34m.\u001b[0m\u001b[0m_make_wav\u001b[0m\u001b[0;34m(\u001b[0m\u001b[0mdata\u001b[0m\u001b[0;34m,\u001b[0m \u001b[0mrate\u001b[0m\u001b[0;34m,\u001b[0m \u001b[0mnormalize\u001b[0m\u001b[0;34m)\u001b[0m\u001b[0;34m\u001b[0m\u001b[0;34m\u001b[0m\u001b[0m\n\u001b[1;32m    118\u001b[0m \u001b[0;34m\u001b[0m\u001b[0m\n",
      "\u001b[0;31mValueError\u001b[0m: rate must be specified when data is a numpy array or list of audio samples."
     ]
    },
    {
     "data": {
      "image/png": "[encoded data removed]",
      "text/plain": [
       "<Figure size 576x288 with 1 Axes>"
      ]
     },
     "metadata": {
      "needs_background": "light"
     },
     "output_type": "display_data"
    }
   ],
   "source": [
    "plot_wave(wave_paths[1])\n",
    "IPython.display.Audio('sound.wav')"
   ]
  },
  {
   "cell_type": "code",
   "execution_count": null,
   "id": "3b37f5c3",
   "metadata": {},
   "outputs": [],
   "source": [
    "plot_wave(wave_paths[2])\n",
    "IPython.display.Audio('sound.wav')"
   ]
  },
  {
   "cell_type": "code",
   "execution_count": null,
   "id": "e53e468c",
   "metadata": {},
   "outputs": [],
   "source": [
    "plot_wave(wave_paths[3])\n",
    "IPython.display.Audio('sound.wav')"
   ]
  },
  {
   "cell_type": "code",
   "execution_count": null,
   "id": "73dceee1",
   "metadata": {},
   "outputs": [],
   "source": [
    "plot_wave(wave_paths[4])\n",
    "IPython.display.Audio('sound.wav')"
   ]
  },
  {
   "cell_type": "code",
   "execution_count": null,
   "id": "4f5079a3",
   "metadata": {},
   "outputs": [],
   "source": [
    "plot_wave(wave_paths[5])\n",
    "IPython.display.Audio('sound.wav')"
   ]
  },
  {
   "cell_type": "code",
   "execution_count": null,
   "id": "745d4ae1",
   "metadata": {},
   "outputs": [],
   "source": [
    "plot_wave(wave_paths[6])\n",
    "IPython.display.Audio('sound.wav')"
   ]
  },
  {
   "cell_type": "code",
   "execution_count": null,
   "id": "7362eca0",
   "metadata": {},
   "outputs": [],
   "source": [
    "plot_wave(wave_paths[7])\n",
    "IPython.display.Audio('sound.wav')"
   ]
  },
  {
   "cell_type": "code",
   "execution_count": null,
   "id": "b367891a",
   "metadata": {},
   "outputs": [],
   "source": [
    "plot_wave(wave_paths[8])\n",
    "IPython.display.Audio('sound.wav')"
   ]
  },
  {
   "cell_type": "code",
   "execution_count": null,
   "id": "98ed193b",
   "metadata": {},
   "outputs": [],
   "source": [
    "plot_wave(wave_paths[9])\n",
    "IPython.display.Audio('sound.wav')"
   ]
  },
  {
   "cell_type": "code",
   "execution_count": null,
   "id": "37993ce7",
   "metadata": {},
   "outputs": [],
   "source": [
    "plot_wave(wave_paths[10])\n",
    "IPython.display.Audio('sound.wav')"
   ]
  },
  {
   "cell_type": "code",
   "execution_count": null,
   "id": "090256a5",
   "metadata": {},
   "outputs": [],
   "source": []
  },
  {
   "cell_type": "code",
   "execution_count": null,
   "id": "7709ee0a",
   "metadata": {},
   "outputs": [],
   "source": []
  },
  {
   "cell_type": "code",
   "execution_count": null,
   "id": "726c18d3",
   "metadata": {},
   "outputs": [],
   "source": []
  },
  {
   "cell_type": "code",
   "execution_count": null,
   "id": "eeab209a",
   "metadata": {},
   "outputs": [],
   "source": []
  },
  {
   "cell_type": "code",
   "execution_count": null,
   "id": "e471258f",
   "metadata": {},
   "outputs": [],
   "source": []
  },
  {
   "cell_type": "code",
   "execution_count": null,
   "id": "b06e2de5",
   "metadata": {},
   "outputs": [],
   "source": []
  },
  {
   "cell_type": "code",
   "execution_count": null,
   "id": "5173011b",
   "metadata": {},
   "outputs": [],
   "source": []
  },
  {
   "cell_type": "code",
   "execution_count": null,
   "id": "16e87382",
   "metadata": {},
   "outputs": [],
   "source": []
  },
  {
   "cell_type": "code",
   "execution_count": null,
   "id": "9f975d60",
   "metadata": {},
   "outputs": [],
   "source": []
  },
  {
   "cell_type": "code",
   "execution_count": null,
   "id": "28bb9045",
   "metadata": {},
   "outputs": [],
   "source": []
  },
  {
   "cell_type": "code",
   "execution_count": null,
   "id": "63859842",
   "metadata": {},
   "outputs": [],
   "source": []
  },
  {
   "cell_type": "code",
   "execution_count": null,
   "id": "2b6246e0",
   "metadata": {},
   "outputs": [],
   "source": []
  },
  {
   "cell_type": "code",
   "execution_count": null,
   "id": "6144f8a3",
   "metadata": {},
   "outputs": [],
   "source": []
  },
  {
   "cell_type": "code",
   "execution_count": null,
   "id": "be3e3537",
   "metadata": {},
   "outputs": [],
   "source": []
  },
  {
   "cell_type": "code",
   "execution_count": null,
   "id": "c071512d",
   "metadata": {},
   "outputs": [],
   "source": []
  },
  {
   "cell_type": "code",
   "execution_count": null,
   "id": "bb31918b",
   "metadata": {},
   "outputs": [],
   "source": []
  },
  {
   "cell_type": "code",
   "execution_count": null,
   "id": "6ff1805c",
   "metadata": {},
   "outputs": [],
   "source": []
  },
  {
   "cell_type": "code",
   "execution_count": null,
   "id": "b83884c1",
   "metadata": {},
   "outputs": [],
   "source": []
  },
  {
   "cell_type": "code",
   "execution_count": null,
   "id": "2cfa39ed",
   "metadata": {},
   "outputs": [],
   "source": []
  },
  {
   "cell_type": "code",
   "execution_count": null,
   "id": "abc0c431",
   "metadata": {},
   "outputs": [],
   "source": []
  },
  {
   "cell_type": "code",
   "execution_count": null,
   "id": "9f6f9558",
   "metadata": {},
   "outputs": [],
   "source": []
  },
  {
   "cell_type": "code",
   "execution_count": null,
   "id": "535a2cf3",
   "metadata": {},
   "outputs": [],
   "source": []
  }
 ],
 "metadata": {
  "kernelspec": {
   "display_name": "Python 3",
   "language": "python",
   "name": "python3"
  },
  "language_info": {
   "codemirror_mode": {
    "name": "ipython",
    "version": 3
   },
   "file_extension": ".py",
   "mimetype": "text/x-python",
   "name": "python",
   "nbconvert_exporter": "python",
   "pygments_lexer": "ipython3",
   "version": "3.7.9"
  }
 },
 "nbformat": 4,
 "nbformat_minor": 5
}
